{
 "cells": [
  {
   "cell_type": "code",
   "execution_count": 1,
   "metadata": {
    "collapsed": true
   },
   "outputs": [],
   "source": [
    "from iflow.dataset.testing_dataset import TESTDATA\n",
    "import torch\n",
    "import torch.optim as optim\n",
    "from iflow.dataset import drums_dataset\n",
    "from torch.utils.data import DataLoader\n",
    "from iflow import model\n",
    "from iflow.trainers import cycle_dynamics_train\n",
    "from iflow.utils.generic import to_torch\n",
    "import matplotlib.pyplot as plt\n",
    "import numpy as np\n",
    "\n",
    "from iflow.visualization import visualize_vector_field, visualize_trajectories\n",
    "from iflow.test_measures.log_likelihood import cycle_log_likelihood"
   ]
  },
  {
   "cell_type": "code",
   "execution_count": 2,
   "metadata": {
    "collapsed": false
   },
   "outputs": [],
   "source": [
    "data = TESTDATA()"
   ]
  },
  {
   "cell_type": "code",
   "execution_count": null,
   "metadata": {
    "collapsed": false
   },
   "outputs": [],
   "source": [
    "def main_layer(dim):\n",
    "    return  model.ResNetCouplingLayer(dim)\n",
    "\n",
    "def create_flow_seq(dim, depth):\n",
    "    chain = []\n",
    "    for i in range(depth):\n",
    "        chain.append(main_layer(dim))\n",
    "        chain.append(model.RandomPermutation(dim))\n",
    "        chain.append(model.LULinear(dim))\n",
    "    chain.append(main_layer(dim))\n",
    "    return model.SequentialFlow(chain)"
   ]
  },
  {
   "cell_type": "code",
   "execution_count": null,
   "metadata": {
    "collapsed": false
   },
   "outputs": [],
   "source": [
    "\n",
    "percentage = .99\n",
    "batch_size = 100\n",
    "depth = 10\n",
    "## optimization ##\n",
    "lr = 0.001\n",
    "weight_decay = 0.1\n",
    "## training variables ##\n",
    "nr_epochs = 1000\n",
    "\n",
    "######### GPU/ CPU #############\n",
    "#device = torch.device('cuda:' + str(args.gpu) if torch.cuda.is_available() else 'cpu')\n",
    "device = torch.device('cpu')"
   ]
  },
  {
   "cell_type": "code",
   "execution_count": null,
   "metadata": {
    "collapsed": false
   },
   "outputs": [],
   "source": [
    "dim = data.dim\n",
    "T_period = (2*np.pi)/data.w\n",
    "params = {'batch_size': batch_size, 'shuffle': True}\n",
    "dataloader = DataLoader(data.dataset, **params)\n",
    "######### Model #########\n",
    "lsd = model.LinearLimitCycle(dim, device, dt=data.dt, T_period=T_period)\n",
    "flow = create_flow_seq(dim, depth)\n",
    "iflow = model.ContinuousDynamicFlow(dynamics=lsd, model=flow, dim=dim).to(device)\n",
    "########## Optimization ################\n",
    "params = list(flow.parameters()) + list(lsd.parameters())\n",
    "optimizer = optim.Adamax(params, lr = lr, weight_decay= weight_decay)"
   ]
  },
  {
   "cell_type": "code",
   "execution_count": null,
   "metadata": {
    "collapsed": false
   },
   "outputs": [],
   "source": [
    "for i in range(nr_epochs):\n",
    "    # Training\n",
    "    for local_x, local_y in dataloader:\n",
    "        dataloader.dataset.set_step()\n",
    "        optimizer.zero_grad()\n",
    "        loss = cycle_dynamics_train(iflow, local_x, local_y)\n",
    "        loss.backward(retain_graph=True)\n",
    "        optimizer.step()\n",
    "\n",
    "    ## Validation ##\n",
    "    if i%10 == 0:\n",
    "        with torch.no_grad():\n",
    "            iflow.eval()\n",
    "\n",
    "            visualize_trajectories(data.train_data, iflow, device, fig_number=2)\n",
    "\n",
    "            step = 20\n",
    "            trj = data.train_data[0]\n",
    "            trj_x0 = to_torch(trj[:-step,:], device)\n",
    "            trj_x1 = to_torch(trj[step:,:], device)\n",
    "            phase = to_torch(data.train_phase_data[0][:-step], device)\n",
    "            cycle_log_likelihood(trj_x0, trj_x1, phase, step, iflow, device)"
   ]
  },
  {
   "cell_type": "code",
   "execution_count": null,
   "metadata": {
    "collapsed": false
   },
   "outputs": [],
   "source": []
  },
  {
   "cell_type": "code",
   "execution_count": null,
   "metadata": {},
   "outputs": [],
   "source": []
  },
  {
   "cell_type": "code",
   "execution_count": null,
   "metadata": {},
   "outputs": [],
   "source": [
    "from iflow.dataset import drums_dataset"
   ]
  },
  {
   "cell_type": "code",
   "execution_count": null,
   "metadata": {},
   "outputs": [],
   "source": [
    "drums_dataset.DRUMS()"
   ]
  },
  {
   "cell_type": "code",
   "execution_count": null,
   "metadata": {},
   "outputs": [],
   "source": []
  }
 ],
 "metadata": {
  "kernelspec": {
   "display_name": "venv",
   "language": "python",
   "name": "python3"
  },
  "language_info": {
   "codemirror_mode": {
    "name": "ipython",
    "version": 2
   },
   "file_extension": ".py",
   "mimetype": "text/x-python",
   "name": "python",
   "nbconvert_exporter": "python",
   "pygments_lexer": "ipython2",
   "version": "3.8.13"
  },
  "vscode": {
   "interpreter": {
    "hash": "3d689259aec14598ae7a545a7899819e6e388706210fdad9ff7dfb01827750c7"
   }
  }
 },
 "nbformat": 4,
 "nbformat_minor": 0
}
