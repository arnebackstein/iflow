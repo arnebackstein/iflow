{
 "cells": [
  {
   "cell_type": "code",
   "execution_count": null,
   "metadata": {},
   "outputs": [],
   "source": [
    "import numpy as np\n",
    "import pandas as pd\n",
    "import matplotlib.pyplot as plt\n",
    "import scipy.io\n",
    "from iflow.dataset import gen_cycle_dataset\n",
    "from data.human_robot_interaction_data.read_hh_hr_data import read_data\n",
    "from iflow.dataset.iros_dataset import IROS\n",
    "\n",
    "import torch\n",
    "import torch.optim as optim\n",
    "from iflow.dataset import drums_dataset, gen_cycle_dataset\n",
    "from torch.utils.data import DataLoader\n",
    "from iflow import model\n",
    "from iflow.trainers import cycle_dynamics_train\n",
    "from iflow.utils.generic import to_torch\n",
    "\n",
    "import matplotlib.pyplot as plt\n",
    "import numpy as np\n",
    "\n",
    "from iflow.visualization import visualize_vector_field, visualize_trajectories"
   ]
  },
  {
   "cell_type": "code",
   "execution_count": null,
   "metadata": {},
   "outputs": [],
   "source": [
    "data_p, data_q, names, times = read_data('data/human_robot_interaction_data/hh/p1/hand_shake_s1_1.csv')\n",
    "segments = np.load('data/human_robot_interaction_data/hh/segmentation/hand_shake_1.npy')\n",
    "trajs = [data_p[s[0]:s[1], :, :] for s in segments]\n",
    "\n",
    "# downsample\n",
    "stepsize = 1\n",
    "cutoff = 400\n",
    "offset = 150\n",
    "\n",
    "trajs_downsampled = np.array([a[::stepsize,:,:][offset:cutoff] for a in trajs])\n",
    "trajs = trajs_downsampled.reshape(19,cutoff-offset,26*3)[:,:,-2:]\n",
    "trajs = trajs[1:2]"
   ]
  },
  {
   "cell_type": "code",
   "execution_count": null,
   "metadata": {},
   "outputs": [],
   "source": [
    "# print(trajs.shape)\n",
    "# p = -1\n",
    "# for i in range(len(trajs_downsampled)):\n",
    "#     plt.scatter(-trajs_downsampled[i,:,p,2],trajs_downsampled[i,:,p,1], c=np.arange(250))"
   ]
  },
  {
   "cell_type": "code",
   "execution_count": null,
   "metadata": {},
   "outputs": [],
   "source": [
    "#trajs = np.load('data/DRUMS_dataset/Drums.npy')\n",
    "#trajs = np.load('data/IROS_dataset/RShape.npy')"
   ]
  },
  {
   "cell_type": "code",
   "execution_count": null,
   "metadata": {},
   "outputs": [],
   "source": [
    "data = gen_cycle_dataset.GENCYCLE(trajs, 2)"
   ]
  },
  {
   "cell_type": "code",
   "execution_count": null,
   "outputs": [],
   "source": [
    "print(\"5.06 -> \", data.w)"
   ],
   "metadata": {
    "collapsed": false
   }
  },
  {
   "cell_type": "code",
   "execution_count": null,
   "metadata": {},
   "outputs": [],
   "source": [
    "batch_size = 100\n",
    "depth = 5\n",
    "## optimization ##\n",
    "lr = 0.005\n",
    "weight_decay = 0.05\n",
    "## training variables ##\n",
    "nr_epochs = 10000\n",
    "\n",
    "device = torch.device('cpu')"
   ]
  },
  {
   "cell_type": "code",
   "execution_count": null,
   "metadata": {},
   "outputs": [],
   "source": [
    "def main_layer(dim):\n",
    "    return  model.ResNetCouplingLayer(dim)\n",
    "\n",
    "def create_flow_seq(dim, depth):\n",
    "    chain = []\n",
    "    for i in range(depth):\n",
    "        chain.append(main_layer(dim))\n",
    "        chain.append(model.RandomPermutation(dim))\n",
    "        chain.append(model.LULinear(dim))\n",
    "    chain.append(main_layer(dim))\n",
    "    return model.SequentialFlow(chain)"
   ]
  },
  {
   "cell_type": "code",
   "execution_count": null,
   "metadata": {},
   "outputs": [],
   "source": [
    "dim = data.dim\n",
    "T_period = (2*np.pi)/data.w\n",
    "params = {'batch_size': batch_size, 'shuffle': True}\n",
    "dataloader = DataLoader(data.dataset, **params)\n",
    "\n",
    "lsd = model.LinearLimitCycle(dim, device, dt=data.dt, T_period=T_period)\n",
    "flow = create_flow_seq(dim, depth)\n",
    "iflow = model.ContinuousDynamicFlow(dynamics=lsd, model=flow, dim=dim).to(device)\n",
    "\n",
    "params = list(flow.parameters()) + list(lsd.parameters())\n",
    "optimizer = optim.Adamax(params, lr = lr, weight_decay= weight_decay)"
   ]
  },
  {
   "cell_type": "code",
   "execution_count": null,
   "outputs": [],
   "source": [
    "def cycle_log_likelihood(val_data_y0, val_data_y1,phase, step, iflow, device):\n",
    "    ## Separate Data ##\n",
    "    y0 = val_data_y0\n",
    "    y1 = val_data_y1\n",
    "    ## Evolve dynamics forward ##\n",
    "    x_0, log_det_J_x0 = iflow(y0)\n",
    "    x_1, log_det_J_x1 = iflow(y1)\n",
    "\n",
    "    ### Forward Conditioning ###\n",
    "    log_p_z1 = iflow.dynamics.cartesian_cond_log_prob(x_0, x_1, T=step)\n",
    "    log_trj = log_p_z1 + log_det_J_x1.squeeze()\n",
    "\n",
    "    ### Stable Point ###\n",
    "    log_p_z0 = iflow.dynamics.stable_log_prob(x_0, ref_phase=phase)\n",
    "    log_stable = log_p_z0 + log_det_J_x0.squeeze()\n",
    "    return (torch.mean(log_trj) + torch.mean(log_stable)).detach().item()"
   ],
   "metadata": {
    "collapsed": false
   }
  },
  {
   "cell_type": "code",
   "execution_count": null,
   "metadata": {},
   "outputs": [],
   "source": [
    "for i in range(nr_epochs):\n",
    "    # Training\n",
    "    for local_x, local_y in dataloader:\n",
    "        dataloader.dataset.set_step()\n",
    "        optimizer.zero_grad()\n",
    "        loss = cycle_dynamics_train(iflow, local_x, local_y)\n",
    "        loss.backward(retain_graph=True)\n",
    "        optimizer.step()\n",
    "\n",
    "    ## Validation ##\n",
    "    if i%100 == 0:\n",
    "        with torch.no_grad():\n",
    "            iflow.eval()\n",
    "            # likelihood\n",
    "            step = 20\n",
    "            trj = data.train_data[0]\n",
    "            trj_x0 = to_torch(trj[:-step,:], device)\n",
    "            trj_x1 = to_torch(trj[step:,:], device)\n",
    "            phase = to_torch(data.train_phase_data[0][:-step], device)\n",
    "            likelihood = cycle_log_likelihood(trj_x0, trj_x1, phase, step, iflow, device)\n",
    "            print(likelihood)\n",
    "            if likelihood > -5:\n",
    "                # plotting\n",
    "                out = iflow.generate_trj(torch.from_numpy(data.train_data[0][0][None, :]).float().to(device), data.train_data[0].shape[0])\n",
    "                out = out.detach().cpu().numpy()\n",
    "                plt.plot(out[:,0], out[:,1], 'r')\n",
    "                for t in data.train_data:\n",
    "                    plt.plot(t[:,0], t[:,1])\n",
    "                plt.show()\n"
   ]
  },
  {
   "cell_type": "code",
   "execution_count": null,
   "metadata": {},
   "outputs": [],
   "source": [
    "fig_number = 3\n",
    "val_trj = data.train_data\n",
    "\n",
    "\n",
    "_trajs = np.zeros((0, 2))\n",
    "for trj in val_trj:\n",
    "    _trajs = np.concatenate((_trajs, trj),0)\n",
    "min = _trajs.min(0) - 0.5\n",
    "max = _trajs.max(0) + 0.5\n",
    "\n",
    "n_sample = 100\n",
    "\n",
    "x = np.linspace(min[0], max[0], n_sample)\n",
    "y = np.linspace(min[1], max[1], n_sample)\n",
    "\n",
    "xy = np.meshgrid(x, y)\n",
    "h = np.concatenate(xy[0])\n",
    "v = np.concatenate(xy[1])\n",
    "hv = torch.Tensor(np.stack([h, v]).T).float()\n",
    "if device is not None:\n",
    "    hv = hv.to(device)\n",
    "\n",
    "hv_t1 = iflow.evolve(hv, T=3)\n",
    "hv = hv.detach().cpu().numpy()\n",
    "hv_t1 = hv_t1.detach().cpu().numpy()\n",
    "\n",
    "vel = (hv_t1 - hv)\n",
    "\n",
    "vel_x = np.reshape(vel[:, 0], (n_sample, n_sample))\n",
    "vel_y = np.reshape(vel[:, 1], (n_sample, n_sample))\n",
    "speed = np.sqrt(vel_x ** 2 + vel_y ** 2)\n",
    "speed = speed/np.max(speed)\n",
    "\n",
    "fig = plt.figure(fig_number, figsize=(10, 10))\n",
    "plt.clf()\n",
    "ax = plt.gca()\n",
    "\n",
    "plt.streamplot(xy[0], xy[1], vel_x, vel_y, density=[0.5, 1])\n",
    "for i in range(len(val_trj)):\n",
    "    plt.plot(val_trj[i][:,0], val_trj[i][:,1], 'b')\n",
    "plt.draw()\n",
    "plt.pause(0.05)\n",
    "plt.show()"
   ]
  },
  {
   "cell_type": "code",
   "execution_count": null,
   "outputs": [],
   "source": [],
   "metadata": {
    "collapsed": false
   }
  }
 ],
 "metadata": {
  "kernelspec": {
   "name": "py10",
   "language": "python",
   "display_name": "py10"
  },
  "language_info": {
   "codemirror_mode": {
    "name": "ipython",
    "version": 3
   },
   "file_extension": ".py",
   "mimetype": "text/x-python",
   "name": "python",
   "nbconvert_exporter": "python",
   "pygments_lexer": "ipython3",
   "version": "3.8.13"
  },
  "orig_nbformat": 4,
  "vscode": {
   "interpreter": {
    "hash": "3d689259aec14598ae7a545a7899819e6e388706210fdad9ff7dfb01827750c7"
   }
  }
 },
 "nbformat": 4,
 "nbformat_minor": 2
}
