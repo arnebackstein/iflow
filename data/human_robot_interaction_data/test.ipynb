{
 "cells": [
  {
   "cell_type": "code",
   "execution_count": 37,
   "metadata": {
    "collapsed": true
   },
   "outputs": [],
   "source": [
    "import numpy as np\n",
    "import pandas as pd"
   ]
  },
  {
   "cell_type": "code",
   "execution_count": 38,
   "outputs": [],
   "source": [
    "from read_hh_hr_data import read_data"
   ],
   "metadata": {
    "collapsed": false
   }
  },
  {
   "cell_type": "code",
   "execution_count": 39,
   "outputs": [],
   "source": [
    "data_p, data_q, names, times = read_data(\"hr/p1/hand_shake_s1_1.csv\")"
   ],
   "metadata": {
    "collapsed": false
   }
  },
  {
   "cell_type": "code",
   "execution_count": 40,
   "outputs": [
    {
     "data": {
      "text/plain": "['Timestamp',\n 'Root_P_x',\n 'Root_P_y',\n 'Root_P_z',\n 'Root_Q_x',\n 'Root_Q_y',\n 'Root_Q_z',\n 'Root_Q_w',\n 'Hips_P_x',\n 'Hips_P_y',\n 'Hips_P_z',\n 'Hips_Q_x',\n 'Hips_Q_y',\n 'Hips_Q_z',\n 'Hips_Q_w',\n 'LeftThigh_P_x',\n 'LeftThigh_P_y',\n 'LeftThigh_P_z',\n 'LeftThigh_Q_x',\n 'LeftThigh_Q_y',\n 'LeftThigh_Q_z',\n 'LeftThigh_Q_w',\n 'LeftShin_P_x',\n 'LeftShin_P_y',\n 'LeftShin_P_z',\n 'LeftShin_Q_x',\n 'LeftShin_Q_y',\n 'LeftShin_Q_z',\n 'LeftShin_Q_w',\n 'LeftFoot_P_x',\n 'LeftFoot_P_y',\n 'LeftFoot_P_z',\n 'LeftFoot_Q_x',\n 'LeftFoot_Q_y',\n 'LeftFoot_Q_z',\n 'LeftFoot_Q_w',\n 'LeftToe_P_x',\n 'LeftToe_P_y',\n 'LeftToe_P_z',\n 'LeftToe_Q_x',\n 'LeftToe_Q_y',\n 'LeftToe_Q_z',\n 'LeftToe_Q_w',\n 'LeftToeTip_P_x',\n 'LeftToeTip_P_y',\n 'LeftToeTip_P_z',\n 'LeftToeTip_Q_x',\n 'LeftToeTip_Q_y',\n 'LeftToeTip_Q_z',\n 'LeftToeTip_Q_w',\n 'RightThigh_P_x',\n 'RightThigh_P_y',\n 'RightThigh_P_z',\n 'RightThigh_Q_x',\n 'RightThigh_Q_y',\n 'RightThigh_Q_z',\n 'RightThigh_Q_w',\n 'RightShin_P_x',\n 'RightShin_P_y',\n 'RightShin_P_z',\n 'RightShin_Q_x',\n 'RightShin_Q_y',\n 'RightShin_Q_z',\n 'RightShin_Q_w',\n 'RightFoot_P_x',\n 'RightFoot_P_y',\n 'RightFoot_P_z',\n 'RightFoot_Q_x',\n 'RightFoot_Q_y',\n 'RightFoot_Q_z',\n 'RightFoot_Q_w',\n 'RightToe_P_x',\n 'RightToe_P_y',\n 'RightToe_P_z',\n 'RightToe_Q_x',\n 'RightToe_Q_y',\n 'RightToe_Q_z',\n 'RightToe_Q_w',\n 'RightToeTip_P_x',\n 'RightToeTip_P_y',\n 'RightToeTip_P_z',\n 'RightToeTip_Q_x',\n 'RightToeTip_Q_y',\n 'RightToeTip_Q_z',\n 'RightToeTip_Q_w',\n 'Spine1_P_x',\n 'Spine1_P_y',\n 'Spine1_P_z',\n 'Spine1_Q_x',\n 'Spine1_Q_y',\n 'Spine1_Q_z',\n 'Spine1_Q_w',\n 'Spine2_P_x',\n 'Spine2_P_y',\n 'Spine2_P_z',\n 'Spine2_Q_x',\n 'Spine2_Q_y',\n 'Spine2_Q_z',\n 'Spine2_Q_w',\n 'Spine3_P_x',\n 'Spine3_P_y',\n 'Spine3_P_z',\n 'Spine3_Q_x',\n 'Spine3_Q_y',\n 'Spine3_Q_z',\n 'Spine3_Q_w',\n 'Spine4_P_x',\n 'Spine4_P_y',\n 'Spine4_P_z',\n 'Spine4_Q_x',\n 'Spine4_Q_y',\n 'Spine4_Q_z',\n 'Spine4_Q_w',\n 'LeftShoulder_P_x',\n 'LeftShoulder_P_y',\n 'LeftShoulder_P_z',\n 'LeftShoulder_Q_x',\n 'LeftShoulder_Q_y',\n 'LeftShoulder_Q_z',\n 'LeftShoulder_Q_w',\n 'LeftArm_P_x',\n 'LeftArm_P_y',\n 'LeftArm_P_z',\n 'LeftArm_Q_x',\n 'LeftArm_Q_y',\n 'LeftArm_Q_z',\n 'LeftArm_Q_w',\n 'LeftForeArm_P_x',\n 'LeftForeArm_P_y',\n 'LeftForeArm_P_z',\n 'LeftForeArm_Q_x',\n 'LeftForeArm_Q_y',\n 'LeftForeArm_Q_z',\n 'LeftForeArm_Q_w',\n 'LeftHand_P_x',\n 'LeftHand_P_y',\n 'LeftHand_P_z',\n 'LeftHand_Q_x',\n 'LeftHand_Q_y',\n 'LeftHand_Q_z',\n 'LeftHand_Q_w',\n 'Neck_P_x',\n 'Neck_P_y',\n 'Neck_P_z',\n 'Neck_Q_x',\n 'Neck_Q_y',\n 'Neck_Q_z',\n 'Neck_Q_w',\n 'Head_P_x',\n 'Head_P_y',\n 'Head_P_z',\n 'Head_Q_x',\n 'Head_Q_y',\n 'Head_Q_z',\n 'Head_Q_w',\n 'RightShoulder_P_x',\n 'RightShoulder_P_y',\n 'RightShoulder_P_z',\n 'RightShoulder_Q_x',\n 'RightShoulder_Q_y',\n 'RightShoulder_Q_z',\n 'RightShoulder_Q_w',\n 'RightArm_P_x',\n 'RightArm_P_y',\n 'RightArm_P_z',\n 'RightArm_Q_x',\n 'RightArm_Q_y',\n 'RightArm_Q_z',\n 'RightArm_Q_w',\n 'RightForeArm_P_x',\n 'RightForeArm_P_y',\n 'RightForeArm_P_z',\n 'RightForeArm_Q_x',\n 'RightForeArm_Q_y',\n 'RightForeArm_Q_z',\n 'RightForeArm_Q_w',\n 'RightHand_P_x',\n 'RightHand_P_y',\n 'RightHand_P_z',\n 'RightHand_Q_x',\n 'RightHand_Q_y',\n 'RightHand_Q_z',\n 'RightHand_Q_w']"
     },
     "execution_count": 40,
     "metadata": {},
     "output_type": "execute_result"
    }
   ],
   "source": [
    "names"
   ],
   "metadata": {
    "collapsed": false
   }
  },
  {
   "cell_type": "code",
   "execution_count": 1,
   "outputs": [
    {
     "ename": "NameError",
     "evalue": "name 'data_q' is not defined",
     "output_type": "error",
     "traceback": [
      "\u001B[0;31m---------------------------------------------------------------------------\u001B[0m",
      "\u001B[0;31mNameError\u001B[0m                                 Traceback (most recent call last)",
      "Cell \u001B[0;32mIn[1], line 1\u001B[0m\n\u001B[0;32m----> 1\u001B[0m \u001B[43mdata_q\u001B[49m\n",
      "\u001B[0;31mNameError\u001B[0m: name 'data_q' is not defined"
     ]
    }
   ],
   "source": [
    "data_q"
   ],
   "metadata": {
    "collapsed": false
   }
  },
  {
   "cell_type": "code",
   "execution_count": 23,
   "outputs": [
    {
     "data": {
      "text/plain": "(23617, 26, 3)"
     },
     "execution_count": 23,
     "metadata": {},
     "output_type": "execute_result"
    }
   ],
   "source": [
    "data_p.shape"
   ],
   "metadata": {
    "collapsed": false
   }
  },
  {
   "cell_type": "code",
   "execution_count": 36,
   "outputs": [
    {
     "data": {
      "text/plain": "(23617, 26, 4)"
     },
     "execution_count": 36,
     "metadata": {},
     "output_type": "execute_result"
    }
   ],
   "source": [
    "data_q.shape"
   ],
   "metadata": {
    "collapsed": false
   }
  }
 ],
 "metadata": {
  "kernelspec": {
   "display_name": "Python 3",
   "language": "python",
   "name": "python3"
  },
  "language_info": {
   "codemirror_mode": {
    "name": "ipython",
    "version": 2
   },
   "file_extension": ".py",
   "mimetype": "text/x-python",
   "name": "python",
   "nbconvert_exporter": "python",
   "pygments_lexer": "ipython2",
   "version": "2.7.6"
  }
 },
 "nbformat": 4,
 "nbformat_minor": 0
}
